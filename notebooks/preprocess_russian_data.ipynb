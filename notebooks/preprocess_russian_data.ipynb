{
 "cells": [
  {
   "cell_type": "code",
   "execution_count": 118,
   "metadata": {
    "collapsed": true
   },
   "outputs": [],
   "source": [
    "import pandas as pd\n",
    "import numpy as np\n",
    "import os"
   ]
  },
  {
   "cell_type": "code",
   "execution_count": 119,
   "metadata": {
    "collapsed": true
   },
   "outputs": [],
   "source": [
    "def list_files(directory):\n",
    "    return [os.path.join(directory, f) for f in os.listdir(directory)]"
   ]
  },
  {
   "cell_type": "code",
   "execution_count": 120,
   "metadata": {
    "collapsed": false
   },
   "outputs": [],
   "source": [
    "fls = []\n",
    "for x in os.listdir(\"../datasets/raw/testset/\"):\n",
    "    s = x.split(\".\")[0]\n",
    "    fls.append(s)\n",
    "fls = list(set(fls))"
   ]
  },
  {
   "cell_type": "code",
   "execution_count": 121,
   "metadata": {
    "collapsed": false
   },
   "outputs": [],
   "source": [
    "ff = open(\"../datasets/processed/rustest.bio\", \"w+\")\n",
    "for fl in fls:\n",
    "    ftokens = open(\"../datasets/raw/testset/\" + fl + \".tokens\")\n",
    "    fspans = open(\"../datasets/raw/testset/\" + fl + \".spans\")\n",
    "    fobjects= open(\"../datasets/raw/testset/\" + fl + \".objects\")\n",
    "    tokens = ftokens.readlines()\n",
    "    spans = fspans.readlines()\n",
    "    objects = fobjects.readlines()\n",
    "    for token in tokens:\n",
    "        if token == \"\\n\":\n",
    "            continue\n",
    "        #print(token)\n",
    "        #print(token.split(\" \"))\n",
    "        word = token.split(\" \")[3]\n",
    "        id_tok = token.split(\" \")[0]\n",
    "        #print(word)\n",
    "        #print(token)\n",
    "        er = 0\n",
    "        targ = \"\"\n",
    "        for span in spans:\n",
    "            id_toks = span.split(\" \")[4]\n",
    "            #print(id_toks)\n",
    "            if id_toks == id_tok:\n",
    "                id_span = span.split(\" \")[0]\n",
    "                #print(id_span)\n",
    "                for obj in objects:\n",
    "                    slist = obj.split(\" \")\n",
    "                    for sl in slist[2:]:\n",
    "                        if sl == id_span:\n",
    "                            targ = slist[1]\n",
    "                            er = 1\n",
    "                            break\n",
    "                    if er == 1:\n",
    "                        break\n",
    "            if er == 1:\n",
    "                break\n",
    "        if er == 0:\n",
    "            ss = word.split(\"\\n\")[0] + \" O\\n\"\n",
    "            ff.write(ss)\n",
    "        else:\n",
    "            ss = word.split(\"\\n\")[0] + \" \" + targ + \"\\n\"\n",
    "            ff.write(ss)\n",
    "        #print(er)\n",
    "    ftokens.close()\n",
    "    fspans.close()\n",
    "    fobjects.close()\n",
    "ff.close()\n",
    "    "
   ]
  },
  {
   "cell_type": "code",
   "execution_count": null,
   "metadata": {
    "collapsed": true
   },
   "outputs": [],
   "source": []
  }
 ],
 "metadata": {
  "kernelspec": {
   "display_name": "Python 2",
   "language": "python",
   "name": "python2"
  },
  "language_info": {
   "codemirror_mode": {
    "name": "ipython",
    "version": 2
   },
   "file_extension": ".py",
   "mimetype": "text/x-python",
   "name": "python",
   "nbconvert_exporter": "python",
   "pygments_lexer": "ipython2",
   "version": "2.7.6"
  }
 },
 "nbformat": 4,
 "nbformat_minor": 1
}
